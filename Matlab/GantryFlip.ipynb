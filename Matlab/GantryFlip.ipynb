{
 "cells": [
  {
   "cell_type": "markdown",
   "metadata": {},
   "source": [
    "# Working notebook to get the Reference Point Reversal script working without Matlab"
   ]
  },
  {
   "cell_type": "markdown",
   "metadata": {},
   "source": [
    "## Setup"
   ]
  },
  {
   "cell_type": "code",
   "execution_count": 9,
   "metadata": {},
   "outputs": [],
   "source": [
    "import pydicom\n",
    "import os\n",
    "import sys\n",
    "import time\n",
    "import copy\n",
    "import inspect"
   ]
  },
  {
   "cell_type": "code",
   "execution_count": 15,
   "metadata": {},
   "outputs": [],
   "source": [
    "sourceFile = os.path.join(os.getcwd(), 'RP.dcm')\n",
    "testFile = os.path.join(os.getcwd(), 'RP-Rev-Matlab.dcm')\n",
    "saveFile = sourceFile.replace('.dcm', '-Reversed.dcm')\n",
    "filename = os.path.basename(sourceFile)\n",
    "path = os.path.dirname(sourceFile)\n",
    "referencePlan = pydicom.dcmread(sourceFile)\n",
    "testPlan = pydicom.dcmread(testFile)\n",
    "# Create a copy of the original file\n",
    "flippedPlan = copy.deepcopy(referencePlan)\n",
    "# Modify the copy name to indicate it's been reversed\n",
    "flippedPlan.RTPlanLabel = referencePlan.RTPlanLabel + \"-Reversed\"\n",
    "flippedPlan.SOPInstanceUID = pydicom.uid.generate_uid()\n",
    "# Plan name safety, if the plan name is too long it will be cut\n",
    "if (len(flippedPlan.RTPlanLabel) > 16):\n",
    "    flippedPlan.RTPlanLabel = referencePlan.RTPlanLabel[0:11] + \"-Rev\"\n",
    "\n"
   ]
  },
  {
   "cell_type": "markdown",
   "metadata": {},
   "source": [
    "## Testing"
   ]
  },
  {
   "cell_type": "code",
   "execution_count": null,
   "metadata": {},
   "outputs": [],
   "source": [
    "print(\"Modifying the file...\")\n",
    "print(sourceFile)\n",
    "print(filename)\n",
    "print(path)\n",
    "print(referencePlan.RTPlanLabel)\n",
    "print(flippedPlan.RTPlanLabel)"
   ]
  },
  {
   "cell_type": "code",
   "execution_count": null,
   "metadata": {},
   "outputs": [],
   "source": [
    "print(referencePlan)"
   ]
  },
  {
   "cell_type": "markdown",
   "metadata": {},
   "source": [
    "## Algorithm"
   ]
  },
  {
   "cell_type": "code",
   "execution_count": null,
   "metadata": {},
   "outputs": [],
   "source": [
    "for i in range(len(referencePlan.BeamSequence)):\n",
    "    CPcount = len(referencePlan.BeamSequence[i].ControlPointSequence)\n",
    "    CPList = list(referencePlan.BeamSequence[i].ControlPointSequence)\n",
    "    ControlPoints = referencePlan.BeamSequence[i].ControlPointSequence\n",
    "\n",
    "    for j in range(CPcount):\n",
    "        if j == 0:\n",
    "            Col = CPList[j].BeamLimitingDeviceAngle\n",
    "            if Col > 180:\n",
    "                Col = Col - 180\n",
    "            else:\n",
    "                Col = Col + 180\n",
    "            flippedPlan.BeamSequence[i].ControlPointSequence[j].BeamLimitingDeviceAngle = Col\n",
    "        Dir = CPList[j].GantryRotationDirection\n",
    "        if Dir == 'CW':\n",
    "            flippedPlan.BeamSequence[i].ControlPointSequence[j].GantryRotationDirection = 'CC'\n",
    "        elif Dir == 'CC':\n",
    "            flippedPlan.BeamSequence[i].ControlPointSequence[j].GantryRotationDirection = 'CW'\n",
    "        elif Dir == 'NONE':\n",
    "            print('Done')\n",
    "            print(i)\n",
    "        else:\n",
    "            raise ValueError('No Gantry')\n",
    "        swapAngle = CPList[CPcount - j - 1].GantryAngle\n",
    "        flippedPlan.BeamSequence[i].ControlPointSequence[j].GantryAngle = swapAngle\n",
    "flippedPlan.save_as(saveFile)\n"
   ]
  },
  {
   "cell_type": "markdown",
   "metadata": {},
   "source": [
    "## Testing"
   ]
  },
  {
   "cell_type": "code",
   "execution_count": null,
   "metadata": {},
   "outputs": [],
   "source": [
    "testBeams = len(testPlan.BeamSequence)\n",
    "flippedBeams = len(flippedPlan.BeamSequence)\n",
    "comparisons = 0\n",
    "if testBeams != flippedBeams:\n",
    "    #raise ValueError('The number of beams in the test plan does not match the flipped plan')\n",
    "    print('The number of beams in the test plan does not match the flipped plan')\n",
    "for i in range (testBeams):\n",
    "    testCPcount = len(testPlan.BeamSequence[i].ControlPointSequence)\n",
    "    testControlPoints = testPlan.BeamSequence[i].ControlPointSequence\n",
    "    flippedCPcount = len(flippedPlan.BeamSequence[i].ControlPointSequence)\n",
    "    flippedControlPoints = flippedPlan.BeamSequence[i].ControlPointSequence\n",
    "    if testCPcount != flippedCPcount:\n",
    "        #raise ValueError('The number of control points in the test plan does not match the flipped plan')\n",
    "        print('The number of control points in the test plan does not match the flipped plan')\n",
    "    else :\n",
    "        comparisons = comparisons + 1\n",
    "    for j in range(testCPcount):\n",
    "        testGantry = testControlPoints[j].GantryAngle \n",
    "        flippedGantry = flippedControlPoints[j].GantryAngle\n",
    "        if testGantry != flippedGantry:\n",
    "            #raise ValueError('The gantry angle of control point ' + str(j) + ' in beam ' + str(i) + ' does not match the flipped plan')\n",
    "            print('The gantry angle of control point ' + str(j) + ' in beam ' + str(i) + ' does not match the flipped plan')\n",
    "        else:\n",
    "            comparisons = comparisons + 1\n",
    "        testGantryRotationDirection = testControlPoints[j].GantryRotationDirection\n",
    "        flippedGantryRotationDirection = flippedControlPoints[j].GantryRotationDirection\n",
    "        if testGantryRotationDirection != flippedGantryRotationDirection:\n",
    "            #raise ValueError('The gantry rotation direction of control point ' + str(j) + ' in beam ' + str(i) + ' does not match the flipped plan')\n",
    "            print('The gantry rotation direction of control point ' + str(j) + ' in beam ' + str(i) + ' does not match the flipped plan')\n",
    "        else:\n",
    "            comparisons = comparisons + 1\n",
    "        for k in range (len(testControlPoints[j].BeamLimitingDevicePositionSequence)):\n",
    "            testLeaf = testControlPoints[j].BeamLimitingDevicePositionSequence[k].LeafJawPositions\n",
    "            flippedLeaf = flippedControlPoints[j].BeamLimitingDevicePositionSequence[k].LeafJawPositions\n",
    "            for l in range (len(testLeaf)):\n",
    "                if testLeaf[l] != flippedLeaf[l]:\n",
    "                    #raise ValueError('The leaf jaw positions of control point ' + str(j) + ' in beam ' + str(i) + ' does not match the flipped plan')\n",
    "                    print ('The leaf jaw positions of control point ' + str(j) + ' in beam ' + str(i) + ' does not match the flipped plan')\n",
    "                else:\n",
    "                    comparisons = comparisons + 1\n",
    "            if testControlPoints[j].BeamLimitingDevicePositionSequence[k].LeafJawPositions != flippedControlPoints[j].BeamLimitingDevicePositionSequence[k].LeafJawPositions:\n",
    "                #raise ValueError('The leaf jaw positions of control point ' + str(j) + ' in beam ' + str(i) + ' does not match the flipped plan')\n",
    "                print('The leaf jaw positions of control point ' + str(j) + ' in beam ' + str(i) + ' does not match the flipped plan')\n",
    "            else:\n",
    "                comparisons = comparisons + 1\n",
    "print('Comparisons: ' + str(comparisons))\n",
    "            \n"
   ]
  },
  {
   "cell_type": "code",
   "execution_count": null,
   "metadata": {},
   "outputs": [],
   "source": []
  }
 ],
 "metadata": {
  "kernelspec": {
   "display_name": ".venv",
   "language": "python",
   "name": "python3"
  },
  "language_info": {
   "codemirror_mode": {
    "name": "ipython",
    "version": 3
   },
   "file_extension": ".py",
   "mimetype": "text/x-python",
   "name": "python",
   "nbconvert_exporter": "python",
   "pygments_lexer": "ipython3",
   "version": "3.12.7"
  }
 },
 "nbformat": 4,
 "nbformat_minor": 2
}
